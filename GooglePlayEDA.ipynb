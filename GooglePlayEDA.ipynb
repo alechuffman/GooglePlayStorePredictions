{
 "cells": [
  {
   "cell_type": "code",
   "execution_count": 79,
   "id": "dominant-karen",
   "metadata": {},
   "outputs": [
    {
     "name": "stdout",
     "output_type": "stream",
     "text": [
      "Collecting empiricaldist\n",
      "  Downloading empiricaldist-0.6.0.tar.gz (9.1 kB)\n",
      "Building wheels for collected packages: empiricaldist\n",
      "  Building wheel for empiricaldist (setup.py) ... \u001b[?25ldone\n",
      "\u001b[?25h  Created wheel for empiricaldist: filename=empiricaldist-0.6.0-py3-none-any.whl size=10354 sha256=d7c4edd509cb9dd708ad2bdf9175cf87aa792099fe4c1e1a4bc507924df384f8\n",
      "  Stored in directory: /Users/alechuffman/Library/Caches/pip/wheels/3b/89/f4/9e4c6ab905d5f768398cc8bbf8cb5c5166cc9c9c36a7f4b8dc\n",
      "Successfully built empiricaldist\n",
      "Installing collected packages: empiricaldist\n",
      "Successfully installed empiricaldist-0.6.0\n"
     ]
    }
   ],
   "source": [
    "import numpy as np\n",
    "import pandas as pd\n",
    "import matplotlib.pyplot as plt\n",
    "import seaborn as sns\n",
    "import time\n",
    "import datetime\n",
    "from empiricaldist import Cdf, Pmf"
   ]
  },
  {
   "cell_type": "markdown",
   "id": "handed-ranch",
   "metadata": {},
   "source": [
    "## Let's get an overview of the data"
   ]
  },
  {
   "cell_type": "code",
   "execution_count": 2,
   "id": "danish-greenhouse",
   "metadata": {},
   "outputs": [
    {
     "data": {
      "text/html": [
       "<div>\n",
       "<style scoped>\n",
       "    .dataframe tbody tr th:only-of-type {\n",
       "        vertical-align: middle;\n",
       "    }\n",
       "\n",
       "    .dataframe tbody tr th {\n",
       "        vertical-align: top;\n",
       "    }\n",
       "\n",
       "    .dataframe thead th {\n",
       "        text-align: right;\n",
       "    }\n",
       "</style>\n",
       "<table border=\"1\" class=\"dataframe\">\n",
       "  <thead>\n",
       "    <tr style=\"text-align: right;\">\n",
       "      <th></th>\n",
       "      <th>App Name</th>\n",
       "      <th>App Id</th>\n",
       "      <th>Category</th>\n",
       "      <th>Rating</th>\n",
       "      <th>Rating Count</th>\n",
       "      <th>Installs</th>\n",
       "      <th>Minimum Installs</th>\n",
       "      <th>Maximum Installs</th>\n",
       "      <th>Free</th>\n",
       "      <th>Price</th>\n",
       "      <th>...</th>\n",
       "      <th>Developer Id</th>\n",
       "      <th>Developer Website</th>\n",
       "      <th>Developer Email</th>\n",
       "      <th>Released</th>\n",
       "      <th>Last Updated</th>\n",
       "      <th>Content Rating</th>\n",
       "      <th>Privacy Policy</th>\n",
       "      <th>Ad Supported</th>\n",
       "      <th>In App Purchases</th>\n",
       "      <th>Editors Choice</th>\n",
       "    </tr>\n",
       "  </thead>\n",
       "  <tbody>\n",
       "    <tr>\n",
       "      <th>0</th>\n",
       "      <td>HTTrack Website Copier</td>\n",
       "      <td>com.httrack.android</td>\n",
       "      <td>Communication</td>\n",
       "      <td>3.6</td>\n",
       "      <td>2848.0</td>\n",
       "      <td>100,000+</td>\n",
       "      <td>100000.0</td>\n",
       "      <td>351560</td>\n",
       "      <td>True</td>\n",
       "      <td>0.0</td>\n",
       "      <td>...</td>\n",
       "      <td>Xavier Roche</td>\n",
       "      <td>http://www.httrack.com/</td>\n",
       "      <td>roche+android@httrack.com</td>\n",
       "      <td>Aug 12, 2013</td>\n",
       "      <td>May 20, 2017</td>\n",
       "      <td>Everyone</td>\n",
       "      <td>http://android.httrack.com/privacy-policy.html</td>\n",
       "      <td>False</td>\n",
       "      <td>False</td>\n",
       "      <td>False</td>\n",
       "    </tr>\n",
       "    <tr>\n",
       "      <th>1</th>\n",
       "      <td>World War 2: Offline Strategy</td>\n",
       "      <td>com.skizze.wwii</td>\n",
       "      <td>Strategy</td>\n",
       "      <td>4.3</td>\n",
       "      <td>17297.0</td>\n",
       "      <td>1,000,000+</td>\n",
       "      <td>1000000.0</td>\n",
       "      <td>2161778</td>\n",
       "      <td>True</td>\n",
       "      <td>0.0</td>\n",
       "      <td>...</td>\n",
       "      <td>Skizze Games</td>\n",
       "      <td>http://stereo7.com/</td>\n",
       "      <td>Skizze.Games@gmail.com</td>\n",
       "      <td>Jul 19, 2018</td>\n",
       "      <td>Nov 26, 2020</td>\n",
       "      <td>Everyone 10+</td>\n",
       "      <td>https://www.iubenda.com/privacy-policy/8032781</td>\n",
       "      <td>True</td>\n",
       "      <td>True</td>\n",
       "      <td>False</td>\n",
       "    </tr>\n",
       "    <tr>\n",
       "      <th>2</th>\n",
       "      <td>WPSApp</td>\n",
       "      <td>com.themausoft.wpsapp</td>\n",
       "      <td>Tools</td>\n",
       "      <td>4.2</td>\n",
       "      <td>488639.0</td>\n",
       "      <td>50,000,000+</td>\n",
       "      <td>50000000.0</td>\n",
       "      <td>79304739</td>\n",
       "      <td>True</td>\n",
       "      <td>0.0</td>\n",
       "      <td>...</td>\n",
       "      <td>TheMauSoft</td>\n",
       "      <td>http://www.themausoft.com</td>\n",
       "      <td>wpsapp.app@gmail.com</td>\n",
       "      <td>Mar 7, 2016</td>\n",
       "      <td>Oct 21, 2020</td>\n",
       "      <td>Everyone</td>\n",
       "      <td>https://sites.google.com/view/wpsapppolicy/main</td>\n",
       "      <td>True</td>\n",
       "      <td>False</td>\n",
       "      <td>False</td>\n",
       "    </tr>\n",
       "    <tr>\n",
       "      <th>3</th>\n",
       "      <td>OfficeSuite - Office, PDF, Word, Excel, PowerP...</td>\n",
       "      <td>com.mobisystems.office</td>\n",
       "      <td>Business</td>\n",
       "      <td>4.2</td>\n",
       "      <td>1224420.0</td>\n",
       "      <td>100,000,000+</td>\n",
       "      <td>100000000.0</td>\n",
       "      <td>163660067</td>\n",
       "      <td>True</td>\n",
       "      <td>0.0</td>\n",
       "      <td>...</td>\n",
       "      <td>MobiSystems</td>\n",
       "      <td>http://www.mobisystems.com</td>\n",
       "      <td>support-officesuite-android@mobisystems.com</td>\n",
       "      <td>Dec 22, 2011</td>\n",
       "      <td>Nov 23, 2020</td>\n",
       "      <td>Everyone</td>\n",
       "      <td>http://www.mobisystems.com/mobile/privacy-poli...</td>\n",
       "      <td>True</td>\n",
       "      <td>True</td>\n",
       "      <td>False</td>\n",
       "    </tr>\n",
       "    <tr>\n",
       "      <th>4</th>\n",
       "      <td>Loud Player Free</td>\n",
       "      <td>com.arthelion.loudplayer</td>\n",
       "      <td>Music &amp; Audio</td>\n",
       "      <td>4.2</td>\n",
       "      <td>665.0</td>\n",
       "      <td>50,000+</td>\n",
       "      <td>50000.0</td>\n",
       "      <td>73463</td>\n",
       "      <td>True</td>\n",
       "      <td>0.0</td>\n",
       "      <td>...</td>\n",
       "      <td>Arthelion92</td>\n",
       "      <td>http://www.arthelion.com</td>\n",
       "      <td>arthelion92@gmail.com</td>\n",
       "      <td>Sep 24, 2016</td>\n",
       "      <td>Nov 22, 2020</td>\n",
       "      <td>Everyone</td>\n",
       "      <td>http://www.arthelion.com/index.php/fr/android-...</td>\n",
       "      <td>False</td>\n",
       "      <td>False</td>\n",
       "      <td>False</td>\n",
       "    </tr>\n",
       "  </tbody>\n",
       "</table>\n",
       "<p>5 rows × 23 columns</p>\n",
       "</div>"
      ],
      "text/plain": [
       "                                            App Name  \\\n",
       "0                             HTTrack Website Copier   \n",
       "1                      World War 2: Offline Strategy   \n",
       "2                                             WPSApp   \n",
       "3  OfficeSuite - Office, PDF, Word, Excel, PowerP...   \n",
       "4                                   Loud Player Free   \n",
       "\n",
       "                     App Id       Category  Rating  Rating Count  \\\n",
       "0       com.httrack.android  Communication     3.6        2848.0   \n",
       "1           com.skizze.wwii       Strategy     4.3       17297.0   \n",
       "2     com.themausoft.wpsapp          Tools     4.2      488639.0   \n",
       "3    com.mobisystems.office       Business     4.2     1224420.0   \n",
       "4  com.arthelion.loudplayer  Music & Audio     4.2         665.0   \n",
       "\n",
       "       Installs  Minimum Installs  Maximum Installs  Free  Price  ...  \\\n",
       "0      100,000+          100000.0            351560  True    0.0  ...   \n",
       "1    1,000,000+         1000000.0           2161778  True    0.0  ...   \n",
       "2   50,000,000+        50000000.0          79304739  True    0.0  ...   \n",
       "3  100,000,000+       100000000.0         163660067  True    0.0  ...   \n",
       "4       50,000+           50000.0             73463  True    0.0  ...   \n",
       "\n",
       "   Developer Id           Developer Website  \\\n",
       "0  Xavier Roche     http://www.httrack.com/   \n",
       "1  Skizze Games         http://stereo7.com/   \n",
       "2    TheMauSoft   http://www.themausoft.com   \n",
       "3   MobiSystems  http://www.mobisystems.com   \n",
       "4   Arthelion92    http://www.arthelion.com   \n",
       "\n",
       "                               Developer Email      Released  Last Updated  \\\n",
       "0                    roche+android@httrack.com  Aug 12, 2013  May 20, 2017   \n",
       "1                       Skizze.Games@gmail.com  Jul 19, 2018  Nov 26, 2020   \n",
       "2                         wpsapp.app@gmail.com   Mar 7, 2016  Oct 21, 2020   \n",
       "3  support-officesuite-android@mobisystems.com  Dec 22, 2011  Nov 23, 2020   \n",
       "4                        arthelion92@gmail.com  Sep 24, 2016  Nov 22, 2020   \n",
       "\n",
       "  Content Rating                                     Privacy Policy  \\\n",
       "0       Everyone     http://android.httrack.com/privacy-policy.html   \n",
       "1   Everyone 10+     https://www.iubenda.com/privacy-policy/8032781   \n",
       "2       Everyone    https://sites.google.com/view/wpsapppolicy/main   \n",
       "3       Everyone  http://www.mobisystems.com/mobile/privacy-poli...   \n",
       "4       Everyone  http://www.arthelion.com/index.php/fr/android-...   \n",
       "\n",
       "  Ad Supported In App Purchases Editors Choice  \n",
       "0        False            False          False  \n",
       "1         True             True          False  \n",
       "2         True            False          False  \n",
       "3         True             True          False  \n",
       "4        False            False          False  \n",
       "\n",
       "[5 rows x 23 columns]"
      ]
     },
     "execution_count": 2,
     "metadata": {},
     "output_type": "execute_result"
    }
   ],
   "source": [
    "df = pd.read_csv('Google-Playstore.csv')\n",
    "df.head()\n"
   ]
  },
  {
   "cell_type": "code",
   "execution_count": 3,
   "id": "wired-distributor",
   "metadata": {},
   "outputs": [
    {
     "name": "stdout",
     "output_type": "stream",
     "text": [
      "<class 'pandas.core.frame.DataFrame'>\n",
      "RangeIndex: 1118136 entries, 0 to 1118135\n",
      "Data columns (total 23 columns):\n",
      " #   Column             Non-Null Count    Dtype  \n",
      "---  ------             --------------    -----  \n",
      " 0   App Name           1118135 non-null  object \n",
      " 1   App Id             1118136 non-null  object \n",
      " 2   Category           1118133 non-null  object \n",
      " 3   Rating             1111286 non-null  float64\n",
      " 4   Rating Count       1111286 non-null  float64\n",
      " 5   Installs           1117975 non-null  object \n",
      " 6   Minimum Installs   1117975 non-null  float64\n",
      " 7   Maximum Installs   1118136 non-null  int64  \n",
      " 8   Free               1118136 non-null  bool   \n",
      " 9   Price              1118136 non-null  float64\n",
      " 10  Currency           1117975 non-null  object \n",
      " 11  Size               1118136 non-null  object \n",
      " 12  Minimum Android    1116123 non-null  object \n",
      " 13  Developer Id       1118134 non-null  object \n",
      " 14  Developer Website  703770 non-null   object \n",
      " 15  Developer Email    1118114 non-null  object \n",
      " 16  Released           1110406 non-null  object \n",
      " 17  Last Updated       1118136 non-null  object \n",
      " 18  Content Rating     1118136 non-null  object \n",
      " 19  Privacy Policy     964612 non-null   object \n",
      " 20  Ad Supported       1118136 non-null  bool   \n",
      " 21  In App Purchases   1118136 non-null  bool   \n",
      " 22  Editors Choice     1118136 non-null  bool   \n",
      "dtypes: bool(4), float64(4), int64(1), object(14)\n",
      "memory usage: 166.3+ MB\n"
     ]
    }
   ],
   "source": [
    "df.info()"
   ]
  },
  {
   "cell_type": "code",
   "execution_count": 4,
   "id": "paperback-thing",
   "metadata": {},
   "outputs": [
    {
     "data": {
      "text/plain": [
       "App Name                  1\n",
       "App Id                    0\n",
       "Category                  3\n",
       "Rating                 6850\n",
       "Rating Count           6850\n",
       "Installs                161\n",
       "Minimum Installs        161\n",
       "Maximum Installs          0\n",
       "Free                      0\n",
       "Price                     0\n",
       "Currency                161\n",
       "Size                      0\n",
       "Minimum Android        2013\n",
       "Developer Id              2\n",
       "Developer Website    414366\n",
       "Developer Email          22\n",
       "Released               7730\n",
       "Last Updated              0\n",
       "Content Rating            0\n",
       "Privacy Policy       153524\n",
       "Ad Supported              0\n",
       "In App Purchases          0\n",
       "Editors Choice            0\n",
       "dtype: int64"
      ]
     },
     "execution_count": 4,
     "metadata": {},
     "output_type": "execute_result"
    }
   ],
   "source": [
    "df.isnull().sum()"
   ]
  },
  {
   "cell_type": "code",
   "execution_count": 5,
   "id": "certain-highlight",
   "metadata": {},
   "outputs": [
    {
     "data": {
      "text/plain": [
       "Education                  115242\n",
       "Music & Audio              104541\n",
       "Entertainment               82079\n",
       "Books & Reference           78969\n",
       "Personalization             73538\n",
       "Tools                       68953\n",
       "Lifestyle                   54586\n",
       "Business                    42210\n",
       "Health & Fitness            31532\n",
       "Productivity                30450\n",
       "Photography                 28942\n",
       "Travel & Local              25971\n",
       "Puzzle                      24954\n",
       "Finance                     24846\n",
       "Food & Drink                24250\n",
       "Sports                      22094\n",
       "News & Magazines            21553\n",
       "Casual                      20509\n",
       "Shopping                    20440\n",
       "Communication               18391\n",
       "Arcade                      17715\n",
       "Social                      16987\n",
       "Simulation                  15372\n",
       "Action                      12628\n",
       "Medical                     12554\n",
       "Art & Design                12322\n",
       "Educational                 11351\n",
       "Maps & Navigation           10468\n",
       "Adventure                   10124\n",
       "Video Players & Editors      9095\n",
       "Auto & Vehicles              6872\n",
       "Beauty                       6236\n",
       "Racing                       6004\n",
       "Role Playing                 5632\n",
       "House & Home                 5475\n",
       "Trivia                       5470\n",
       "Board                        5261\n",
       "Word                         4677\n",
       "Card                         4674\n",
       "Strategy                     4071\n",
       "Events                       3788\n",
       "Weather                      2958\n",
       "Dating                       2883\n",
       "Casino                       2648\n",
       "Music                        2515\n",
       "Libraries & Demo             2382\n",
       "Comics                       2137\n",
       "Parenting                    1784\n",
       "Name: Category, dtype: int64"
      ]
     },
     "execution_count": 5,
     "metadata": {},
     "output_type": "execute_result"
    }
   ],
   "source": [
    "df['Category'].value_counts()"
   ]
  },
  {
   "cell_type": "markdown",
   "id": "delayed-snowboard",
   "metadata": {},
   "source": [
    "## We can see that there are a few problems with the data:\n",
    "1. There are many missing values in a few categories\n",
    "2. Some columns don't really tell us any useful info like the ID, versions, currency, contact info etc.\n",
    "3. All columns are not snake case or camel case\n",
    "4. incorrect datatypes"
   ]
  },
  {
   "cell_type": "markdown",
   "id": "popular-queensland",
   "metadata": {},
   "source": [
    "### Let's start with problem 3 - All columns we'll be converted to snake case"
   ]
  },
  {
   "cell_type": "code",
   "execution_count": 6,
   "id": "pacific-trout",
   "metadata": {},
   "outputs": [],
   "source": [
    "df.rename(lambda x: x.lower().strip().replace(' ', '_'), \n",
    "            axis='columns', inplace=True)"
   ]
  },
  {
   "cell_type": "markdown",
   "id": "liked-concern",
   "metadata": {},
   "source": [
    "### Now we'll fix problem 2 - Non-important columns will be dropped"
   ]
  },
  {
   "cell_type": "code",
   "execution_count": 9,
   "id": "decimal-monitoring",
   "metadata": {},
   "outputs": [],
   "source": [
    "to_drop = [\n",
    "    'app_id', 'minimum_android', 'editors_choice',\n",
    "    'developer_id', 'ad_supported', 'in_app_purchases', 'developer_website', 'developer_email', 'privacy_policy'     ]\n",
    "\n",
    "df.drop(to_drop, axis='columns', inplace=True)"
   ]
  },
  {
   "cell_type": "markdown",
   "id": "grave-bolivia",
   "metadata": {},
   "source": [
    "Looking back at our categories above, \"Music and Audio\" and \"Music\" are two separate categories - that will be fixed by combinning them together\n",
    "\n",
    "\"Education\" and \"Educational\" are also two different categories - those will also be combined"
   ]
  },
  {
   "cell_type": "code",
   "execution_count": 11,
   "id": "potential-possibility",
   "metadata": {},
   "outputs": [],
   "source": [
    "df['category'] = df['category'].str.replace('Educational', 'Education')\n",
    "df['category'] = df['category'].str.replace('Music & Audio', 'Music')\n",
    "\n"
   ]
  },
  {
   "cell_type": "markdown",
   "id": "express-latest",
   "metadata": {},
   "source": [
    "### Problem 4 - Fixing datatypes"
   ]
  },
  {
   "cell_type": "code",
   "execution_count": 13,
   "id": "ecological-extra",
   "metadata": {},
   "outputs": [
    {
     "data": {
      "text/plain": [
       "0                        2.7M\n",
       "1                         86M\n",
       "2                        5.8M\n",
       "3                         59M\n",
       "4                         29M\n",
       "                  ...        \n",
       "1118131    Varies with device\n",
       "1118132                  4.7M\n",
       "1118133                   28M\n",
       "1118134                  8.1M\n",
       "1118135                  8.8M\n",
       "Name: size, Length: 1118136, dtype: object"
      ]
     },
     "execution_count": 13,
     "metadata": {},
     "output_type": "execute_result"
    }
   ],
   "source": [
    "df['size']"
   ]
  },
  {
   "cell_type": "markdown",
   "id": "heated-locator",
   "metadata": {},
   "source": [
    "We'll strip the megabytes/kb and convert this to a float64"
   ]
  },
  {
   "cell_type": "code",
   "execution_count": 14,
   "id": "optimum-adoption",
   "metadata": {},
   "outputs": [
    {
     "name": "stderr",
     "output_type": "stream",
     "text": [
      "<ipython-input-14-f14b145b7478>:1: FutureWarning: The default value of regex will change from True to False in a future version.\n",
      "  df['size'] = pd.to_numeric(df['size'].str.replace(r'[a-zA-Z]+', ''),\n"
     ]
    }
   ],
   "source": [
    "df['size'] = pd.to_numeric(df['size'].str.replace(r'[a-zA-Z]+', ''), \n",
    "                             errors='coerce')"
   ]
  },
  {
   "cell_type": "code",
   "execution_count": 18,
   "id": "large-august",
   "metadata": {},
   "outputs": [
    {
     "name": "stdout",
     "output_type": "stream",
     "text": [
      "<class 'pandas.core.frame.DataFrame'>\n",
      "RangeIndex: 1118136 entries, 0 to 1118135\n",
      "Data columns (total 14 columns):\n",
      " #   Column            Non-Null Count    Dtype  \n",
      "---  ------            --------------    -----  \n",
      " 0   app_name          1118135 non-null  object \n",
      " 1   category          1118133 non-null  object \n",
      " 2   rating            1111286 non-null  float64\n",
      " 3   rating_count      1111286 non-null  float64\n",
      " 4   installs          1117975 non-null  object \n",
      " 5   minimum_installs  1117975 non-null  float64\n",
      " 6   maximum_installs  1118136 non-null  int64  \n",
      " 7   free              1118136 non-null  bool   \n",
      " 8   price             1118136 non-null  float64\n",
      " 9   currency          1117975 non-null  object \n",
      " 10  size              1080403 non-null  float64\n",
      " 11  released          1110406 non-null  object \n",
      " 12  last_updated      1118136 non-null  object \n",
      " 13  content_rating    1118136 non-null  object \n",
      "dtypes: bool(1), float64(5), int64(1), object(7)\n",
      "memory usage: 112.0+ MB\n"
     ]
    }
   ],
   "source": [
    "df.info()"
   ]
  },
  {
   "cell_type": "markdown",
   "id": "after-telescope",
   "metadata": {},
   "source": [
    "### Now, some data exploration can be performed - Let's get a breakdown of categories"
   ]
  },
  {
   "cell_type": "code",
   "execution_count": 44,
   "id": "following-minister",
   "metadata": {},
   "outputs": [],
   "source": [
    "# Setting Google Colors\n",
    "color_pal = [\"#4285F4\", \"#DB4437\", \"#F4B400\", \"#0F9D58\"]"
   ]
  },
  {
   "cell_type": "code",
   "execution_count": 137,
   "id": "respiratory-design",
   "metadata": {},
   "outputs": [
    {
     "data": {
      "text/plain": [
       "Text(0.5, 1.0, 'Count of application according to category')"
      ]
     },
     "execution_count": 137,
     "metadata": {},
     "output_type": "execute_result"
    },
    {
     "data": {
      "image/png": "[encoded data removed]",
      "text/plain": [
       "<Figure size 720x576 with 1 Axes>"
      ]
     },
     "metadata": {
      "needs_background": "light"
     },
     "output_type": "display_data"
    }
   ],
   "source": [
    "plt.figure(figsize=(10,8))\n",
    "sns.countplot(x='category', data=df, palette=color_pal)\n",
    "plt.xticks(rotation=90)\n",
    "plt.xlabel('Categories', fontsize=12)\n",
    "plt.ylabel('Counts', fontsize=12)\n",
    "plt.title('Count of application according to category', fontsize=15, color = color_pal[1])"
   ]
  },
  {
   "cell_type": "code",
   "execution_count": 146,
   "id": "anonymous-document",
   "metadata": {},
   "outputs": [
    {
     "data": {
      "image/png": "[encoded data removed]",
      "text/plain": [
       "<Figure size 720x576 with 1 Axes>"
      ]
     },
     "metadata": {
      "needs_background": "light"
     },
     "output_type": "display_data"
    }
   ],
   "source": [
    "# Since there are so many categories we'll only work with the top ones\n",
    "plt.figure(figsize=(10,8))\n",
    "sns.set_palette(color_pal)\n",
    "top_cats = ['Education', 'Music & Audio', 'Entertainment', \n",
    "           'Books & Reference', 'Personalization', 'Tools', 'Lifestyle', 'Business']\n",
    "top_cats_df = df[df['category'].isin(top_cats)]\n",
    "ax = sns.countplot(y=\"category\", data=top_cats_df, palette=color_pal)\n",
    "plt.show()"
   ]
  },
  {
   "cell_type": "code",
   "execution_count": 96,
   "id": "median-protection",
   "metadata": {},
   "outputs": [
    {
     "data": {
      "image/png": "[encoded data removed]",
      "text/plain": [
       "<Figure size 432x288 with 1 Axes>"
      ]
     },
     "metadata": {
      "needs_background": "light"
     },
     "output_type": "display_data"
    }
   ],
   "source": [
    "over_mln = top_cats_df[top_cats_df['rating_count'] > 1e6]\n",
    "over_mln.shape\n",
    "ax = sns.countplot(y=\"category\", data=over_mln, palette=color_pal)\n",
    "ax.set_title('Rating Count of Most Popular Apps')\n",
    "plt.show();"
   ]
  },
  {
   "cell_type": "code",
   "execution_count": 97,
   "id": "legendary-fight",
   "metadata": {
    "scrolled": false
   },
   "outputs": [
    {
     "name": "stderr",
     "output_type": "stream",
     "text": [
      "<ipython-input-97-682751032088>:23: UserWarning: FixedFormatter should only be used together with FixedLocator\n",
      "  ax.set_yticklabels(y_ticks)\n"
     ]
    },
    {
     "data": {
      "text/plain": [
       "[Text(0, 0.01, '0.3'),\n",
       " Text(0, 0.1, '0.5'),\n",
       " Text(0, 1.0, '1'),\n",
       " Text(0, 10.0, '3'),\n",
       " Text(0, 100.0, '5'),\n",
       " Text(0, 1000.0, '10'),\n",
       " Text(0, 10000.0, '30')]"
      ]
     },
     "execution_count": 97,
     "metadata": {},
     "output_type": "execute_result"
    },
    {
     "data": {
      "image/png": "[encoded data removed]",
      "text/plain": [
       "<Figure size 432x288 with 1 Axes>"
      ]
     },
     "metadata": {
      "needs_background": "light"
     },
     "output_type": "display_data"
    }
   ],
   "source": [
    "is_paid = top_cats_df['price'] != 0\n",
    "\n",
    "ax = sns.boxplot(x='category', y='price', data=top_cats_df[is_paid], palette=color_pal)\n",
    "ax.set(xlabel='', ylabel='Price in USD')\n",
    "ax.set_yscale('log')\n",
    "ax.set_xticklabels(ax.get_xticklabels(), rotation=60)\n",
    "y_ticks = [0.3, 0.5, 1, 3, 5, 10, 30, 100, 300]\n",
    "ax.set_yticklabels(y_ticks)"
   ]
  },
  {
   "cell_type": "markdown",
   "id": "restricted-platinum",
   "metadata": {},
   "source": [
    "It looks like the majority of paid apps are within a few dollars"
   ]
  },
  {
   "cell_type": "code",
   "execution_count": 115,
   "id": "initial-bobby",
   "metadata": {},
   "outputs": [
    {
     "name": "stderr",
     "output_type": "stream",
     "text": [
      "<ipython-input-115-22613f239586>:1: SettingWithCopyWarning: \n",
      "A value is trying to be set on a copy of a slice from a DataFrame.\n",
      "Try using .loc[row_indexer,col_indexer] = value instead\n",
      "\n",
      "See the caveats in the documentation: https://pandas.pydata.org/pandas-docs/stable/user_guide/indexing.html#returning-a-view-versus-a-copy\n",
      "  top_cats_df['free'] = top_cats_df['free'].replace({True: 'Free', False: 'Paid'})\n"
     ]
    },
    {
     "data": {
      "image/png": "[encoded data removed]",
      "text/plain": [
       "<Figure size 864x432 with 1 Axes>"
      ]
     },
     "metadata": {
      "needs_background": "light"
     },
     "output_type": "display_data"
    }
   ],
   "source": [
    "top_cats_df['free'] = top_cats_df['free'].replace({True: 'Free', False: 'Paid'})\n",
    "is_paid = top_cats_df['price'] != 0\n",
    "over_0 = top_cats_df[top_cats_df['rating'] > 0]\n",
    "\n",
    "fig, ax = plt.subplots(figsize=(12, 6))\n",
    "\n",
    "\n",
    "\n",
    "ax = sns.boxplot(x='category', y='rating', data=top_cats_df[top_cats_df['rating'] > 0],\n",
    "           palette=color_pal)\n",
    "ax.set(title='Comparison of Rating For Both Free And Paid Apps',\n",
    "       xlabel='', ylabel='Rating')\n",
    "ax.set_title('Free vs. Paid Apps')\n",
    "ax.set_xticklabels(ax.get_xticklabels(), rotation=60)\n",
    "ax.legend(['Paid', 'Free'], loc='upper right')\n",
    "plt.show()\n"
   ]
  },
  {
   "cell_type": "code",
   "execution_count": 125,
   "id": "breeding-median",
   "metadata": {},
   "outputs": [
    {
     "data": {
      "image/png": "[encoded data removed]",
      "text/plain": [
       "<Figure size 432x288 with 1 Axes>"
      ]
     },
     "metadata": {},
     "output_type": "display_data"
    }
   ],
   "source": [
    "labels = df['free'].value_counts(sort = True).index\n",
    "sizes = df['free'].value_counts(sort = True)\n",
    "colors = [\"#F4B400\", \"#4285F4\"]\n",
    "\n",
    "explode = (0.1,0)  # explode 1st slice\n",
    " \n",
    "# Plot\n",
    "plt.pie(sizes, explode=explode, labels=labels, colors=colors,\n",
    "        autopct='%1.1f%%', shadow=True, startangle=150,)\n",
    "\n",
    "plt.title('Percent of Free App in data', size = 15)\n",
    "plt.show()"
   ]
  },
  {
   "cell_type": "code",
   "execution_count": 128,
   "id": "better-christianity",
   "metadata": {},
   "outputs": [
    {
     "data": {
      "image/png": "[encoded data removed]",
      "text/plain": [
       "<Figure size 720x576 with 1 Axes>"
      ]
     },
     "metadata": {
      "needs_background": "light"
     },
     "output_type": "display_data"
    }
   ],
   "source": [
    "plt.figure(figsize=(10,8))\n",
    "ax = sns.countplot(y='content_rating', data=df, palette=color_pal)"
   ]
  }
 ],
 "metadata": {
  "kernelspec": {
   "display_name": "Python 3",
   "language": "python",
   "name": "python3"
  },
  "language_info": {
   "codemirror_mode": {
    "name": "ipython",
    "version": 3
   },
   "file_extension": ".py",
   "mimetype": "text/x-python",
   "name": "python",
   "nbconvert_exporter": "python",
   "pygments_lexer": "ipython3",
   "version": "3.9.0"
  }
 },
 "nbformat": 4,
 "nbformat_minor": 5
}
